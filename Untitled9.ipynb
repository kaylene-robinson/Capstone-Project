{
 "cells": [
  {
   "cell_type": "markdown",
   "metadata": {
    "slideshow": {
     "slide_type": "slide"
    }
   },
   "source": [
    "# <center> Capstone Project Final Report <center/>\n",
    "## <center> IBM Data Science Professional Certificate <center>\n",
    "## <center> Kaylene Robinson <center/>\n",
    "## <center> December 2019"
   ]
  },
  {
   "cell_type": "markdown",
   "metadata": {
    "slideshow": {
     "slide_type": "slide"
    }
   },
   "source": [
    "### **1. Introduction**\n",
    "***"
   ]
  },
  {
   "cell_type": "markdown",
   "metadata": {
    "slideshow": {
     "slide_type": "slide"
    }
   },
   "source": [
    "#### 1.1 Background\n",
    "Toronto, the capital of Ontario Province, is the most populated city on Canada, with a span of 2,731,571 citizens. Toronto also serves as one of the worlds most diverse place to live and is a primary destinations for Canadian immigrants. \n",
    "\n",
    "As a result, Toronto's geographical locations is split into different municiplaities. Each municipality has a an historical identity and are represented in their names. For example, East York, Etobicoke, Forest HIll, Mimico, and North York are few of hundred neighborhoods in Toronto.\n",
    "\n",
    "#### 1.2 Problem\n",
    "In this project we examined Toronto neighbohoods to group them into similar clusters. Some factors we determined may influence these clusters were restaurants, events, parks and schools. \n",
    "#### 1.3 Interest\n",
    "Those who would potentially intersested in the school may be people looking for new residency, emigrating from a different country, or tourists. This study may help those prospects make a decision on what attributes their new neighborhood have, and can help them make the best choice. "
   ]
  },
  {
   "cell_type": "markdown",
   "metadata": {
    "slideshow": {
     "slide_type": "slide"
    }
   },
   "source": [
    "### **2. Data Cleaning & Selection**\n",
    "***\n",
    "#### 2.1 Data Sources\n",
    "Geographical data for the Toronto neighborhoods was obtained through this Wikipedia link: https://en.wikipedia.org/wiki/List_of_postal_codes_of_Canada:_M. \n",
    "\n",
    "We also extracted geographical coordinates of post codes from the following CSV file: http://cocl.us/Geospatial_data. \n",
    "\n",
    "These links contain data that details the locations used to receive information for venues in the area. Following this data, we also requested venue data for each neighborhood using Foursquare API to cluster the neighborhoods. \n",
    "#### 2.2 Data Cleaning\n",
    "The data downloaded from the aforementioned sources were combined into one table. Using pandas, the data was coded into a data frame and all rows labeled \"Not Assigned\" were ignores. Neighborhoods with the dame postal code were merged.\n",
    "#### 2.3 Feature Selection\n",
    "A table with the postal code, borough, neighborhood, latitude and longitude was created. The table shown below consisted of 103 rows and 5 columns."
   ]
  },
  {
   "cell_type": "markdown",
   "metadata": {
    "slideshow": {
     "slide_type": "slide"
    }
   },
   "source": [
    "![image 1](2.3.JPG)"
   ]
  },
  {
   "cell_type": "markdown",
   "metadata": {
    "slideshow": {
     "slide_type": "slide"
    }
   },
   "source": [
    "### **3. Methodology**\n",
    "***\n",
    "#### 3.1 Exploratory Data Analysis\n",
    "Using the exploratory data analysis approach, I was able to visualize the dataset and summarize their main characteristics. Once the data was cleaned, features from the data set were identified. To represent the data we used the BeautifulSoup python package to read the Wikipedia data and transform it into a data frame using pandas. \n",
    "\n",
    "We then extracted the CSV file for the geographical coordinates, cleaned this data, and combined it the data frames together.  "
   ]
  },
  {
   "cell_type": "markdown",
   "metadata": {
    "slideshow": {
     "slide_type": "slide"
    }
   },
   "source": [
    "#### 3.2 Data Exploration\n",
    "\n",
    "Using the python folium library, we were able to generate a visual map of the Toronto neighborhoods. \n"
   ]
  },
  {
   "cell_type": "markdown",
   "metadata": {
    "slideshow": {
     "slide_type": "slide"
    }
   },
   "source": [
    "Using Foursquare API we were able to explore the venues in each neighborhood. We found the top 50 venues of each neighborhood and created a new data frame to display these venues."
   ]
  },
  {
   "cell_type": "markdown",
   "metadata": {
    "slideshow": {
     "slide_type": "slide"
    }
   },
   "source": [
    "![Image 2](3.2.JPG)"
   ]
  },
  {
   "cell_type": "markdown",
   "metadata": {
    "slideshow": {
     "slide_type": "slide"
    }
   },
   "source": [
    "### **4. Results**\n",
    "***\n",
    "Below the clusters of each neighborhood are illustrated following with a map pinpointing each neighborhood."
   ]
  },
  {
   "cell_type": "markdown",
   "metadata": {},
   "source": [
    "![Image 4](Capture.JPG)"
   ]
  },
  {
   "cell_type": "markdown",
   "metadata": {
    "slideshow": {
     "slide_type": "slide"
    }
   },
   "source": [
    "### **5. Discussion & Observations**\n",
    "***\n",
    "Based on the results of the most common venues in each neighborhood, we categorized similar neighborhoods into 6 clusters. Organizing the clusters can help those interested choose which area is best for them.  "
   ]
  },
  {
   "cell_type": "markdown",
   "metadata": {
    "slideshow": {
     "slide_type": "slide"
    }
   },
   "source": [
    "![Image 3](4.0.JPG)"
   ]
  },
  {
   "cell_type": "markdown",
   "metadata": {
    "slideshow": {
     "slide_type": "slide"
    }
   },
   "source": [
    "### **6. Conclusion**\n",
    "***\n",
    "In this project, we analyzed and prepared data to explore neighborhoods in Toronto. Using K-mean clustering, a machine learning algorithm we were able to cluster each neighborhood. Also, we provided suggestions to those who would be interested in living or traveling in Toronto.\n",
    "Furthermore, one may be able to use other algorithms as a means to cluster neighborhood and may compare the different results of each algorithm."
   ]
  }
 ],
 "metadata": {
  "kernelspec": {
   "display_name": "Python",
   "language": "python",
   "name": "conda-env-python-py"
  },
  "language_info": {
   "codemirror_mode": {
    "name": "ipython",
    "version": 3
   },
   "file_extension": ".py",
   "mimetype": "text/x-python",
   "name": "python",
   "nbconvert_exporter": "python",
   "pygments_lexer": "ipython3",
   "version": "3.6.7"
  },
  "widgets": {
   "application/vnd.jupyter.widget-state+json": {
    "state": {},
    "version_major": 2,
    "version_minor": 0
   }
  }
 },
 "nbformat": 4,
 "nbformat_minor": 4
}
